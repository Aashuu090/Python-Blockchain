{
  "nbformat": 4,
  "nbformat_minor": 0,
  "metadata": {
    "colab": {
      "provenance": []
    },
    "kernelspec": {
      "name": "python3",
      "display_name": "Python 3"
    },
    "language_info": {
      "name": "python"
    }
  },
  "cells": [
    {
      "cell_type": "code",
      "source": [
        "import hashlib\n",
        "\n",
        "def hashGenerator(data):\n",
        "    result = hashlib.sha256(data.encode())\n",
        "    return result.hexdigest()\n",
        "\n",
        "class Block:\n",
        "    def __init__(self, data, hash, prev_hash):\n",
        "        self.data = data\n",
        "        self.hash = hash\n",
        "        self.prev_hash = prev_hash\n",
        "\n",
        "class Blockchain:\n",
        "    def __init__(self):\n",
        "        hashLast = hashGenerator('gen_last')  # prev_hash\n",
        "        hashStart = hashGenerator('gen_hash')  # current hash\n",
        "\n",
        "        genesis = Block('gen_data', hashStart, hashLast)  # Switched hashStart and hashLast for consistency\n",
        "        self.chain = [genesis]\n",
        "\n",
        "    def add_block(self, data):\n",
        "        prev_hash = self.chain[-1].hash\n",
        "        new_hash = hashGenerator(data + prev_hash)  # Renamed variable to avoid conflict with class name\n",
        "        new_block = Block(data, new_hash, prev_hash)\n",
        "        self.chain.append(new_block)\n",
        "\n",
        "bc = Blockchain()\n",
        "bc.add_block('Hey')\n",
        "bc.add_block('Good Morning')\n",
        "bc.add_block('0')\n",
        "\n",
        "for block in bc.chain:\n",
        "    print(block.__dict__)\n"
      ],
      "metadata": {
        "colab": {
          "base_uri": "https://localhost:8080/"
        },
        "id": "Myd0vFgF52M9",
        "outputId": "555e0465-7f6a-4c25-8aba-1b87d24614a7"
      },
      "execution_count": 9,
      "outputs": [
        {
          "output_type": "stream",
          "name": "stdout",
          "text": [
            "{'data': 'gen_data', 'hash': '0a87388e67f16d830a9a3323dad0fdfa4c4044a6a6389cab1a0a37b651a5717b', 'prev_hash': 'bd6fecc16d509c74d23b04f00f936705e3eaa907b04b78872044607665018477'}\n",
            "{'data': 'Hey', 'hash': '17c8663505d4b638de24889925d645c7f1d8f1ab8da91094da895e1298849927', 'prev_hash': '0a87388e67f16d830a9a3323dad0fdfa4c4044a6a6389cab1a0a37b651a5717b'}\n",
            "{'data': 'Good Morning', 'hash': '3fb9c711f7659fe4e64057abb96f098cfe733c5acb039d5bdf0d6d85e7f9f0c7', 'prev_hash': '17c8663505d4b638de24889925d645c7f1d8f1ab8da91094da895e1298849927'}\n",
            "{'data': '0', 'hash': '164e00d960e101b3d8d40c09c30d7e842c6b45bd6598b743a06870f9e549962c', 'prev_hash': '3fb9c711f7659fe4e64057abb96f098cfe733c5acb039d5bdf0d6d85e7f9f0c7'}\n"
          ]
        }
      ]
    }
  ]
}